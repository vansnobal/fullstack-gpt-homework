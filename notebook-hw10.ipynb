{
 "cells": [
  {
   "metadata": {
    "ExecuteTime": {
     "end_time": "2024-08-27T18:15:33.668147Z",
     "start_time": "2024-08-27T18:15:30.993508Z"
    }
   },
   "cell_type": "code",
   "source": [
    "from langchain.chat_models import ChatOpenAI\n",
    "from langchain.prompts import PromptTemplate\n",
    "from langchain.prompts import FewShotPromptTemplate\n",
    "from dotenv import load_dotenv\n",
    "from langchain.callbacks import StreamingStdOutCallbackHandler\n",
    "\n",
    "load_dotenv()\n",
    "\n",
    "chat = ChatOpenAI(\n",
    "    model_name=\"gpt-4o-mini\",\n",
    "    temperature=0.1,\n",
    "    streaming=True,\n",
    "    callbacks=[StreamingStdOutCallbackHandler()]\n",
    ")\n",
    "\n",
    "examples = [\n",
    "    {\n",
    "        \"question\": \"What do you know about Inception, 2010\",\n",
    "        \"answer\":\"\"\"\n",
    "        1) Director: Christopher Nolan,\n",
    "        2) Main Cast: Leonardo DiCaprio, Joseph Gordon-Levitt, Ellen Page, Tom Hardy\n",
    "        3) Budget: Approximately $160 million\n",
    "        4) Box office revenue: approximately $830,000\n",
    "        5) Genre: Science Fiction, Thriller\n",
    "        6) synopsis: Dominic Cobb is an industrial spy who steals information by entering other people's dreams. He is tasked with Inception, that is, the task of implanting thoughts into the subconscious of others. But in this process, Cobb comes face to face with his past.\n",
    "        \"\"\",\n",
    "    },\n",
    "    {\n",
    "        \"question\": \"What do you know about Titanic, 1997\",\n",
    "        \"answer\":\"\"\"\n",
    "        1) Director: James Cameron\n",
    "        2) Main Cast: Leonardo DiCaprio, Kate Winslet, Billy Zane, Kathy Bates\n",
    "        3) Budget: Approximately 200 million dollars\n",
    "        4) Box office revenue: approximately $2.2 billion\n",
    "        5) Genre: Romance, Drama\n",
    "        6) Brief synopsis: A tragic love story that takes place on the Titanic in 1912. Rose, an upper-class woman, and Jack, a lower-class young man, meet by fate and fall in love, but a great tragedy awaits them.\n",
    "        \"\"\",\n",
    "    },\n",
    "    {\n",
    "        \"question\": \"What do you know about The Dark Knight, 2008\",\n",
    "        \"answer\":\"\"\"\n",
    "        1) Director: Christopher Nolan,\n",
    "        2) Main Cast: Christian Bale, Heath Ledger, Aaron Eckhart, Michael Caine\n",
    "        3) Budget: Approximately $185 million\n",
    "        4) Box office revenue: approximately $1 billion\n",
    "        5) Genre: Action, Crime, Drama\n",
    "        6) Brief synopsis: Batman must fight a new enemy called the Joker to protect Gotham City. The Joker tests Batman's morality and his limits and seeks to wreak havoc on Gotham City.\n",
    "        \"\"\",\n",
    "    },\n",
    "]\n",
    "\n",
    "example_prompt = PromptTemplate.from_template(\"Human: {question}\\nAI: {answer}\")\n",
    "\n",
    "example_prompt = FewShotPromptTemplate(\n",
    "    example_prompt=example_prompt,\n",
    "    examples=examples,\n",
    "    suffix=\"Human: What do you know about {movie}?\",\n",
    "    input_variables=[\"movie\"],\n",
    ")\n",
    "\n",
    "chain = example_prompt | chat\n",
    "chain.invoke({\"movie\": \"kings man\"})\n",
    "\n",
    "\n"
   ],
   "id": "3eaec00e268366b8",
   "outputs": [
    {
     "name": "stdout",
     "output_type": "stream",
     "text": [
      "AI: \n",
      "1) Director: Matthew Vaughn\n",
      "2) Main Cast: Taron Egerton, Colin Firth, Samuel L. Jackson, Mark Strong\n",
      "3) Budget: Approximately $94 million\n",
      "4) Box office revenue: approximately $414 million\n",
      "5) Genre: Action, Comedy, Spy\n",
      "6) Brief synopsis: \"Kingsman: The Secret Service\" follows a young man named Eggsy who is recruited into a secret spy organization known as the Kingsman. As he undergoes training, he must confront a global threat posed by a tech billionaire with a sinister plan. The film combines stylish action with humor and a nod to classic spy films. \n",
      "\n",
      "(Note: If you meant a specific film in the \"Kingsman\" series, please specify which one, as there are multiple films.)"
     ]
    },
    {
     "data": {
      "text/plain": [
       "AIMessageChunk(content='AI: \\n1) Director: Matthew Vaughn\\n2) Main Cast: Taron Egerton, Colin Firth, Samuel L. Jackson, Mark Strong\\n3) Budget: Approximately $94 million\\n4) Box office revenue: approximately $414 million\\n5) Genre: Action, Comedy, Spy\\n6) Brief synopsis: \"Kingsman: The Secret Service\" follows a young man named Eggsy who is recruited into a secret spy organization known as the Kingsman. As he undergoes training, he must confront a global threat posed by a tech billionaire with a sinister plan. The film combines stylish action with humor and a nod to classic spy films. \\n\\n(Note: If you meant a specific film in the \"Kingsman\" series, please specify which one, as there are multiple films.)')"
      ]
     },
     "execution_count": 21,
     "metadata": {},
     "output_type": "execute_result"
    }
   ],
   "execution_count": 21
  },
  {
   "metadata": {},
   "cell_type": "code",
   "outputs": [],
   "execution_count": null,
   "source": "",
   "id": "9c4b0cb828769d6f"
  }
 ],
 "metadata": {
  "kernelspec": {
   "display_name": "Python 3",
   "language": "python",
   "name": "python3"
  },
  "language_info": {
   "codemirror_mode": {
    "name": "ipython",
    "version": 2
   },
   "file_extension": ".py",
   "mimetype": "text/x-python",
   "name": "python",
   "nbconvert_exporter": "python",
   "pygments_lexer": "ipython2",
   "version": "2.7.6"
  }
 },
 "nbformat": 4,
 "nbformat_minor": 5
}
