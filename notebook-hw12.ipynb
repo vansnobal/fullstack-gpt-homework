{
 "cells": [
  {
   "metadata": {
    "ExecuteTime": {
     "end_time": "2024-08-29T17:51:18.641570Z",
     "start_time": "2024-08-29T17:51:18.097748Z"
    }
   },
   "cell_type": "code",
   "source": [
    "from langchain.memory import ConversationBufferMemory\n",
    "from langchain.schema.runnable import RunnablePassthrough\n",
    "from langchain.prompts import ChatPromptTemplate, MessagesPlaceholder, FewShotChatMessagePromptTemplate\n",
    "from langchain.chat_models import ChatOpenAI\n",
    "from dotenv import load_dotenv\n",
    "from langchain.callbacks import StreamingStdOutCallbackHandler\n",
    "\n",
    "load_dotenv()\n",
    "\n",
    "llm = ChatOpenAI(\n",
    "    model_name=\"gpt-4o-mini\",\n",
    "    temperature=0.1,\n",
    "    streaming=True,\n",
    "    callbacks=[StreamingStdOutCallbackHandler()],\n",
    ")\n",
    "\n",
    "examples = [\n",
    "    {\n",
    "        \"question\": \"For Top Gun, Could you show me three emojis that represent this movie?\",\n",
    "        \"answer\": \"🛩️👨‍✈️🔥\",\n",
    "    },\n",
    "    {\n",
    "        \"question\": \"For Godfather, Could you show me three emojis that represent this movie?\",\n",
    "        \"answer\": \"👨‍👨‍👦🔫🍝\",\n",
    "    },\n",
    "    {\n",
    "        \"question\": \"For Iron Man, Could you show me three emojis that represent this movie?\",\n",
    "        \"answer\": \"🤖🦸‍♂️⚙️\",\n",
    "    },\n",
    "]\n",
    "\n",
    "memory = ConversationBufferMemory(\n",
    "    llm=llm,\n",
    "    max_token_limit=80,\n",
    "    return_messages=True\n",
    ")\n",
    "\n",
    "example_prompt = ChatPromptTemplate.from_messages(\n",
    "    [\n",
    "        (\"human\", \"{question}\"),\n",
    "        (\"ai\", \"{answer}\"),\n",
    "    ]\n",
    ")\n",
    "\n",
    "few_shot_prompt = FewShotChatMessagePromptTemplate(\n",
    "    example_prompt=example_prompt,\n",
    "    examples=examples,\n",
    ")\n",
    "\n",
    "final_prompt = ChatPromptTemplate.from_messages([\n",
    "    (\"system\", \"You are a helpful AI showing emojis to a human.\"),\n",
    "    MessagesPlaceholder(variable_name=\"history\"),\n",
    "    few_shot_prompt,\n",
    "    (\"human\", \"{question}\"),\n",
    "])\n",
    "\n",
    "def load_memory(input):\n",
    "    return memory.load_memory_variables({})[\"history\"]\n",
    "\n",
    "chain = RunnablePassthrough.assign(history=load_memory) | final_prompt | llm\n",
    "\n",
    "\n",
    "def invoke_chain(question):\n",
    "    result = chain.invoke({\"question\": question})\n",
    "    memory.save_context(\n",
    "        {\"input\": question},\n",
    "        {\"output\": result.content},\n",
    "    )\n",
    "\n",
    "invoke_chain(\"mars\")\n",
    "memory.load_memory_variables({})"
   ],
   "id": "975448b8bd809f6f",
   "outputs": [
    {
     "name": "stdout",
     "output_type": "stream",
     "text": [
      "🔴🌌🚀"
     ]
    },
    {
     "data": {
      "text/plain": [
       "{'history': [HumanMessage(content='mars'), AIMessage(content='🔴🌌🚀')]}"
      ]
     },
     "execution_count": 24,
     "metadata": {},
     "output_type": "execute_result"
    }
   ],
   "execution_count": 24
  },
  {
   "metadata": {
    "ExecuteTime": {
     "end_time": "2024-08-29T17:51:22.052243Z",
     "start_time": "2024-08-29T17:51:21.494238Z"
    }
   },
   "cell_type": "code",
   "source": [
    "invoke_chain(\"king kong\")\n",
    "memory.load_memory_variables({})"
   ],
   "id": "5b578a53a68faeea",
   "outputs": [
    {
     "name": "stdout",
     "output_type": "stream",
     "text": [
      "🦍🏙️🌉"
     ]
    },
    {
     "data": {
      "text/plain": [
       "{'history': [HumanMessage(content='mars'),\n",
       "  AIMessage(content='🔴🌌🚀'),\n",
       "  HumanMessage(content='king kong'),\n",
       "  AIMessage(content='🦍🏙️🌉')]}"
      ]
     },
     "execution_count": 25,
     "metadata": {},
     "output_type": "execute_result"
    }
   ],
   "execution_count": 25
  },
  {
   "metadata": {
    "ExecuteTime": {
     "end_time": "2024-08-29T17:51:25.308313Z",
     "start_time": "2024-08-29T17:51:24.780826Z"
    }
   },
   "cell_type": "code",
   "source": [
    "invoke_chain(\"kings man\")\n",
    "memory.load_memory_variables({})"
   ],
   "id": "912f4a22673a209a",
   "outputs": [
    {
     "name": "stdout",
     "output_type": "stream",
     "text": [
      "🤵🔫🌍"
     ]
    },
    {
     "data": {
      "text/plain": [
       "{'history': [HumanMessage(content='mars'),\n",
       "  AIMessage(content='🔴🌌🚀'),\n",
       "  HumanMessage(content='king kong'),\n",
       "  AIMessage(content='🦍🏙️🌉'),\n",
       "  HumanMessage(content='kings man'),\n",
       "  AIMessage(content='🤵🔫🌍')]}"
      ]
     },
     "execution_count": 26,
     "metadata": {},
     "output_type": "execute_result"
    }
   ],
   "execution_count": 26
  }
 ],
 "metadata": {
  "kernelspec": {
   "display_name": "Python 3",
   "language": "python",
   "name": "python3"
  },
  "language_info": {
   "codemirror_mode": {
    "name": "ipython",
    "version": 2
   },
   "file_extension": ".py",
   "mimetype": "text/x-python",
   "name": "python",
   "nbconvert_exporter": "python",
   "pygments_lexer": "ipython2",
   "version": "2.7.6"
  }
 },
 "nbformat": 4,
 "nbformat_minor": 5
}
