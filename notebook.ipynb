{
 "cells": [
  {
   "cell_type": "code",
   "id": "initial_id",
   "metadata": {
    "collapsed": true,
    "ExecuteTime": {
     "end_time": "2024-08-26T16:36:14.252637Z",
     "start_time": "2024-08-26T16:36:14.238822Z"
    }
   },
   "source": [
    "from langchain.chat_models import ChatOpenAI\n",
    "from langchain.prompts import ChatPromptTemplate\n",
    "from dotenv import load_dotenv\n",
    "from langchain.callbacks import StreamingStdOutCallbackHandler \n",
    "\n",
    "load_dotenv()\n",
    "\n",
    "chat = ChatOpenAI(\n",
    "    model_name=\"gpt-3.5-turbo\",\n",
    "    temperature=0.9,\n",
    "    streaming=True,\n",
    "    callbacks=[StreamingStdOutCallbackHandler()]\n",
    ")\n"
   ],
   "outputs": [],
   "execution_count": 56
  },
  {
   "metadata": {
    "ExecuteTime": {
     "end_time": "2024-08-26T16:36:16.198894Z",
     "start_time": "2024-08-26T16:36:16.195590Z"
    }
   },
   "cell_type": "code",
   "source": [
    "haikus_prompt = ChatPromptTemplate.from_messages([\n",
    "    (\"system\", \"당신은 프로그래밍 언어에 대한 시를 작성하는 시인입니다. 프로그래밍 언어의 특정을 최대한 활용하여 비유법을 사용하고 한글로 답변해주세요.\"),\n",
    "    (\"human\", \"{language}에 대한 아름다운 시를 한편 작성해줘.\")\n",
    "])\n",
    "\n",
    "haikus_chain = haikus_prompt | chat \n"
   ],
   "id": "98217566804c7b35",
   "outputs": [],
   "execution_count": 57
  },
  {
   "metadata": {},
   "cell_type": "markdown",
   "source": "",
   "id": "669106fc2d529b5c"
  },
  {
   "metadata": {
    "ExecuteTime": {
     "end_time": "2024-08-26T16:36:47.253126Z",
     "start_time": "2024-08-26T16:36:47.247904Z"
    }
   },
   "cell_type": "code",
   "source": [
    "commentator_prompt = ChatPromptTemplate.from_messages([\n",
    "    (\"system\", \"당신은 시를 해설해주는 전문가 입니다. 어린이도 이해할 수 있도록 1줄씩 프로그래밍 언어의 특징과 함께 자세히 설명해주세요.\"),\n",
    "    (\"human\", \"{Haikus}에 대해서 해석해주세요.\")\n",
    "])\n",
    "\n",
    "commentator_chain = commentator_prompt | chat\n"
   ],
   "id": "6899eee7bba8121a",
   "outputs": [],
   "execution_count": 60
  },
  {
   "metadata": {
    "ExecuteTime": {
     "end_time": "2024-08-26T16:38:30.103322Z",
     "start_time": "2024-08-26T16:38:16.445929Z"
    }
   },
   "cell_type": "code",
   "source": [
    "final_chain = {\"Haikus\": haikus_chain} | commentator_chain \n",
    "final_chain.invoke({\"language\": input(\"프로그래밍 언어를 적어주세요.\")})\n"
   ],
   "id": "3eaec00e268366b8",
   "outputs": [
    {
     "name": "stdout",
     "output_type": "stream",
     "text": [
      "달콤한 커피 한 잔과 같은  \n",
      "편안함을 안겨주는 Java야  \n",
      "객체지향의 아름다움을 담은  \n",
      "너의 문법은 마치 우아한 춤가듯  \n",
      "\n",
      "변수와 메소드가 미묘한 밀당을 하며  \n",
      "상속과 다형성으로 미래를 예상하게 해  \n",
      "너의 컴파일러는 마치 환상을 현실로  \n",
      "이미 존재하는 세계를 더욱 환히 빛나게  \n",
      "\n",
      "Java야, 너의 강점은 수많은 라이브러리  \n",
      "내 손끝에 펼쳐지는 무한한 가능성  \n",
      "프로그래머의 마음을 사로잡아  \n",
      "영원토록 너를 사랑하리라이 시는 Java 언어의 특징을 시적인 표현으로 설명하고 있습니다.\n",
      "\n",
      "- **Java 언어의 특징**: Java는 달콤한 커피 한 잔과 같은 편안함을 제공하는 언어로, 객체지향의 아름다움을 담고 있습니다. \n",
      "- **해석**: Java 언어는 객체지향 프로그래밍을 지원하여 코드를 보다 효율적으로 작성할 수 있게 해주며, 변수와 메소드의 조화로움이 마치 춤을 추는 것과 같은 느낌을 줍니다. 상속과 다형성을 통해 미래를 예측할 수 있게 하며, 컴파일러는 환상을 현실로 만들어주는 역할을 합니다. 또한 Java는 다양한 라이브러리를 포함하여 무한한 가능성을 제공하고, 프로그래머들의 마음을 사로잡아 영원히 사랑받을 언어로 송출되고 있습니다."
     ]
    },
    {
     "data": {
      "text/plain": [
       "AIMessageChunk(content='이 시는 Java 언어의 특징을 시적인 표현으로 설명하고 있습니다.\\n\\n- **Java 언어의 특징**: Java는 달콤한 커피 한 잔과 같은 편안함을 제공하는 언어로, 객체지향의 아름다움을 담고 있습니다. \\n- **해석**: Java 언어는 객체지향 프로그래밍을 지원하여 코드를 보다 효율적으로 작성할 수 있게 해주며, 변수와 메소드의 조화로움이 마치 춤을 추는 것과 같은 느낌을 줍니다. 상속과 다형성을 통해 미래를 예측할 수 있게 하며, 컴파일러는 환상을 현실로 만들어주는 역할을 합니다. 또한 Java는 다양한 라이브러리를 포함하여 무한한 가능성을 제공하고, 프로그래머들의 마음을 사로잡아 영원히 사랑받을 언어로 송출되고 있습니다.')"
      ]
     },
     "execution_count": 62,
     "metadata": {},
     "output_type": "execute_result"
    }
   ],
   "execution_count": 62
  }
 ],
 "metadata": {
  "kernelspec": {
   "display_name": "Python 3",
   "language": "python",
   "name": "python3"
  },
  "language_info": {
   "codemirror_mode": {
    "name": "ipython",
    "version": 2
   },
   "file_extension": ".py",
   "mimetype": "text/x-python",
   "name": "python",
   "nbconvert_exporter": "python",
   "pygments_lexer": "ipython2",
   "version": "2.7.6"
  }
 },
 "nbformat": 4,
 "nbformat_minor": 5
}
