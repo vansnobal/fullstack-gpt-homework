{
 "cells": [
  {
   "metadata": {
    "ExecuteTime": {
     "end_time": "2024-09-01T16:22:27.939028Z",
     "start_time": "2024-09-01T16:22:27.933230Z"
    }
   },
   "cell_type": "code",
   "source": [
    "from langchain.chat_models import ChatOpenAI\n",
    "from dotenv import load_dotenv\n",
    "\n",
    "load_dotenv()\n",
    "\n",
    "llm = ChatOpenAI(\n",
    "    model_name=\"gpt-4o-mini\",\n",
    "    temperature=0.1,\n",
    ")"
   ],
   "id": "3fc2c031e6a0f4fd",
   "outputs": [],
   "execution_count": 59
  },
  {
   "metadata": {
    "ExecuteTime": {
     "end_time": "2024-09-01T16:22:31.458883Z",
     "start_time": "2024-09-01T16:22:30.671033Z"
    }
   },
   "cell_type": "code",
   "source": [
    "import requests\n",
    "import tempfile\n",
    "\n",
    "data_url = \"https://gist.githubusercontent.com/serranoarevalo/5acf755c2b8d83f1707ef266b82ea223/raw/d72b9558a11523adbe13300b41321ecd93d331d3/document.txt\"\n",
    "\n",
    "response = requests.get(data_url)\n",
    "\n",
    "with tempfile.NamedTemporaryFile(delete=False, suffix=\".txt\") as temp_file:\n",
    "    temp_file.write(response.content)\n",
    "    temp_file_path = temp_file.name\n",
    "    \n",
    "print(temp_file_path)\n"
   ],
   "id": "ac0be0a6e6c7a9de",
   "outputs": [
    {
     "name": "stdout",
     "output_type": "stream",
     "text": [
      "/var/folders/77/_452rk390qnf00dq_f0hpvnh0000gn/T/tmpz4uesg3g.txt\n"
     ]
    }
   ],
   "execution_count": 60
  },
  {
   "metadata": {
    "ExecuteTime": {
     "end_time": "2024-09-01T16:28:55.710728Z",
     "start_time": "2024-09-01T16:28:54.083439Z"
    }
   },
   "cell_type": "code",
   "source": [
    "from langchain.document_loaders import UnstructuredFileLoader\n",
    "from langchain.text_splitter import CharacterTextSplitter\n",
    "from langchain.embeddings import OpenAIEmbeddings, CacheBackedEmbeddings\n",
    "from langchain.vectorstores import FAISS\n",
    "from langchain.storage import LocalFileStore\n",
    "from langchain.prompts import ChatPromptTemplate\n",
    "from langchain.schema.runnable import RunnablePassthrough\n",
    "from langchain.memory import ConversationBufferMemory\n",
    "\n",
    "cache_dir = LocalFileStore(\"./.cache/\")\n",
    "\n",
    "splitter = CharacterTextSplitter.from_tiktoken_encoder(\n",
    "    separator=\"\\n\",\n",
    "    chunk_size=600,\n",
    "    chunk_overlap=100,\n",
    ")\n",
    "\n",
    "memory = ConversationBufferMemory(\n",
    "    llm=llm,\n",
    "    max_token_limit=80,\n",
    "    return_messages=True\n",
    ")\n",
    "\n",
    "loader = UnstructuredFileLoader(file_path=temp_file_path)\n",
    "docs = loader.load_and_split(text_splitter=splitter)\n",
    "\n",
    "embeddings = OpenAIEmbeddings()\n",
    "cached_embeddings = CacheBackedEmbeddings.from_bytes_store(\n",
    "    embeddings, cache_dir\n",
    ")\n",
    "vectorstore = FAISS.from_documents(docs, cached_embeddings)\n",
    "\n",
    "retriever = vectorstore.as_retriever()\n",
    "\n",
    "prompt = ChatPromptTemplate.from_messages(\n",
    "    [\n",
    "        (\n",
    "            \"system\",\n",
    "            \"You are a helpful assistant. Answer questions using only the following context. If you don't know the answer just say you don't know, don't make it up:\\n\\n{context}\",\n",
    "        ),\n",
    "        (\"human\", \"{question}\"),\n",
    "    ]\n",
    ")\n",
    "\n",
    "def load_memory(_):\n",
    "    return memory.load_memory_variables({})[\"history\"]\n",
    "\n",
    "chain = ({\n",
    "            \"context\": retriever, \n",
    "            \"question\": RunnablePassthrough(),\n",
    "        } \n",
    "         | prompt \n",
    "         | llm\n",
    ")\n",
    "\n",
    "def get_cache_data(question):\n",
    "    loaded_data = load_memory(_)\n",
    "    print(loaded_data)\n",
    "    for i in range(0, len(loaded_data), 2):\n",
    "        human = loaded_data[i]\n",
    "        if human.content == question:\n",
    "            hit = loaded_data[i + 1]\n",
    "            print(\"memory history hit !!!\")\n",
    "            return hit \n",
    "    return None\n",
    "    \n",
    "def invoke_chain(question):\n",
    "    result = get_cache_data(question)\n",
    "    if result is None:\n",
    "        result = chain.invoke(question)\n",
    "        memory.save_context(\n",
    "            {\"input\": question},\n",
    "            {\"output\": result.content},\n",
    "        )\n",
    "    print(\"[Answer]\", result)\n",
    "\n",
    "invoke_chain(\"Is Aaronson guilty?\")"
   ],
   "id": "4751012bdc3e89ba",
   "outputs": [
    {
     "name": "stdout",
     "output_type": "stream",
     "text": [
      "[]\n",
      "[Answer] content='According to the context, Winston believes that Jones, Aaronson, and Rutherford are guilty of the crimes they are charged with, but he also acknowledges that he has never seen the photograph that disproved their guilt and that it had never existed; he had invented it. Therefore, it suggests that Aaronson is not guilty, but the Party has declared him guilty.'\n"
     ]
    }
   ],
   "execution_count": 72
  },
  {
   "metadata": {
    "ExecuteTime": {
     "end_time": "2024-09-01T16:29:00.038710Z",
     "start_time": "2024-09-01T16:29:00.032912Z"
    }
   },
   "cell_type": "code",
   "source": "invoke_chain(\"Is Aaronson guilty?\")",
   "id": "6b6152ff1ea43110",
   "outputs": [
    {
     "name": "stdout",
     "output_type": "stream",
     "text": [
      "[HumanMessage(content='Is Aaronson guilty?'), AIMessage(content='According to the context, Winston believes that Jones, Aaronson, and Rutherford are guilty of the crimes they are charged with, but he also acknowledges that he has never seen the photograph that disproved their guilt and that it had never existed; he had invented it. Therefore, it suggests that Aaronson is not guilty, but the Party has declared him guilty.')]\n",
      "memory history hit !!!\n",
      "[Answer] content='According to the context, Winston believes that Jones, Aaronson, and Rutherford are guilty of the crimes they are charged with, but he also acknowledges that he has never seen the photograph that disproved their guilt and that it had never existed; he had invented it. Therefore, it suggests that Aaronson is not guilty, but the Party has declared him guilty.'\n"
     ]
    }
   ],
   "execution_count": 73
  },
  {
   "metadata": {
    "ExecuteTime": {
     "end_time": "2024-09-01T16:29:08.076659Z",
     "start_time": "2024-09-01T16:29:07.162664Z"
    }
   },
   "cell_type": "code",
   "source": "invoke_chain(\"What message did he write in the table?\")",
   "id": "aa55f583672e6399",
   "outputs": [
    {
     "name": "stdout",
     "output_type": "stream",
     "text": [
      "[HumanMessage(content='Is Aaronson guilty?'), AIMessage(content='According to the context, Winston believes that Jones, Aaronson, and Rutherford are guilty of the crimes they are charged with, but he also acknowledges that he has never seen the photograph that disproved their guilt and that it had never existed; he had invented it. Therefore, it suggests that Aaronson is not guilty, but the Party has declared him guilty.')]\n",
      "[Answer] content='He traced with his finger in the dust on the table: 2+2=5.'\n"
     ]
    }
   ],
   "execution_count": 74
  },
  {
   "metadata": {
    "ExecuteTime": {
     "end_time": "2024-09-01T16:29:43.785072Z",
     "start_time": "2024-09-01T16:29:42.706911Z"
    }
   },
   "cell_type": "code",
   "source": "invoke_chain(\"Who is Julia?\")",
   "id": "a86bbb2dde5a0138",
   "outputs": [
    {
     "name": "stdout",
     "output_type": "stream",
     "text": [
      "[HumanMessage(content='Is Aaronson guilty?'), AIMessage(content='According to the context, Winston believes that Jones, Aaronson, and Rutherford are guilty of the crimes they are charged with, but he also acknowledges that he has never seen the photograph that disproved their guilt and that it had never existed; he had invented it. Therefore, it suggests that Aaronson is not guilty, but the Party has declared him guilty.'), HumanMessage(content='What message did he write in the table?'), AIMessage(content='He traced with his finger in the dust on the table: 2+2=5.')]\n",
      "[Answer] content=\"Julia is a character who is significant to the protagonist, Winston. She is someone he loves and has a deep emotional connection with, as indicated by Winston's overwhelming feelings for her during moments of distress. Julia represents a form of rebellion against the oppressive regime they live under.\"\n"
     ]
    }
   ],
   "execution_count": 75
  }
 ],
 "metadata": {
  "kernelspec": {
   "display_name": "Python 3",
   "language": "python",
   "name": "python3"
  },
  "language_info": {
   "codemirror_mode": {
    "name": "ipython",
    "version": 2
   },
   "file_extension": ".py",
   "mimetype": "text/x-python",
   "name": "python",
   "nbconvert_exporter": "python",
   "pygments_lexer": "ipython2",
   "version": "2.7.6"
  }
 },
 "nbformat": 4,
 "nbformat_minor": 5
}
